{
 "cells": [
  {
   "cell_type": "code",
   "execution_count": 1,
   "id": "05f61073",
   "metadata": {
    "_cell_guid": "b1076dfc-b9ad-4769-8c92-a6c4dae69d19",
    "_uuid": "8f2839f25d086af736a60e9eeb907d3b93b6e0e5",
    "execution": {
     "iopub.execute_input": "2024-08-13T20:20:26.088379Z",
     "iopub.status.busy": "2024-08-13T20:20:26.087997Z",
     "iopub.status.idle": "2024-08-13T20:20:41.661885Z",
     "shell.execute_reply": "2024-08-13T20:20:41.660777Z"
    },
    "papermill": {
     "duration": 15.5828,
     "end_time": "2024-08-13T20:20:41.664607",
     "exception": false,
     "start_time": "2024-08-13T20:20:26.081807",
     "status": "completed"
    },
    "tags": []
   },
   "outputs": [
    {
     "name": "stderr",
     "output_type": "stream",
     "text": [
      "2024-08-13 20:20:30.386330: E external/local_xla/xla/stream_executor/cuda/cuda_dnn.cc:9261] Unable to register cuDNN factory: Attempting to register factory for plugin cuDNN when one has already been registered\n",
      "2024-08-13 20:20:30.386472: E external/local_xla/xla/stream_executor/cuda/cuda_fft.cc:607] Unable to register cuFFT factory: Attempting to register factory for plugin cuFFT when one has already been registered\n",
      "2024-08-13 20:20:30.537611: E external/local_xla/xla/stream_executor/cuda/cuda_blas.cc:1515] Unable to register cuBLAS factory: Attempting to register factory for plugin cuBLAS when one has already been registered\n"
     ]
    }
   ],
   "source": [
    "import numpy as np\n",
    "import pandas as pd\n",
    "import matplotlib.pyplot as plt\n",
    "from sklearn.metrics import confusion_matrix, ConfusionMatrixDisplay\n",
    "import tensorflow as tf\n",
    "from mlxtend.plotting import plot_confusion_matrix\n",
    "from tensorflow.keras.layers import Dense, Dropout, Flatten, Conv2D, MaxPool2D\n",
    "from tensorflow.keras.optimizers import Adam\n",
    "import os\n",
    "\n",
    "from keras import models\n",
    "from keras.layers import Dense, Dropout, Flatten, Conv2D, MaxPool2D\n",
    "from keras.optimizers import RMSprop,Adam\n",
    "from keras.utils import to_categorical\n",
    "\n",
    "\n",
    "# You can write up to 20GB to the current directory (/kaggle/working/) that gets preserved as output when you create a version using \"Save & Run All\" \n",
    "# You can also write temporary files to /kaggle/temp/, but they won't be saved outside of the current session"
   ]
  },
  {
   "cell_type": "code",
   "execution_count": 2,
   "id": "1162625d",
   "metadata": {
    "execution": {
     "iopub.execute_input": "2024-08-13T20:20:41.675881Z",
     "iopub.status.busy": "2024-08-13T20:20:41.675182Z",
     "iopub.status.idle": "2024-08-13T20:20:41.684993Z",
     "shell.execute_reply": "2024-08-13T20:20:41.683337Z"
    },
    "papermill": {
     "duration": 0.018014,
     "end_time": "2024-08-13T20:20:41.687474",
     "exception": false,
     "start_time": "2024-08-13T20:20:41.669460",
     "status": "completed"
    },
    "tags": []
   },
   "outputs": [
    {
     "name": "stdout",
     "output_type": "stream",
     "text": [
      "/kaggle/input/challenges-in-representation-learning-facial-expression-recognition-challenge/icml_face_data.csv\n",
      "/kaggle/input/challenges-in-representation-learning-facial-expression-recognition-challenge/fer2013.tar.gz\n",
      "/kaggle/input/challenges-in-representation-learning-facial-expression-recognition-challenge/example_submission.csv\n",
      "/kaggle/input/challenges-in-representation-learning-facial-expression-recognition-challenge/train.csv\n",
      "/kaggle/input/challenges-in-representation-learning-facial-expression-recognition-challenge/test.csv\n"
     ]
    }
   ],
   "source": [
    "# Minh: Data Augmentation cho các lớp có data nhỏ + khảo sát dataset\n",
    "for dirname, _, filenames in os.walk('/kaggle/input/'):\n",
    "    for filename in filenames:\n",
    "        print(os.path.join(dirname, filename))"
   ]
  },
  {
   "cell_type": "code",
   "execution_count": 3,
   "id": "cac6e772",
   "metadata": {
    "execution": {
     "iopub.execute_input": "2024-08-13T20:20:41.698494Z",
     "iopub.status.busy": "2024-08-13T20:20:41.698076Z",
     "iopub.status.idle": "2024-08-13T20:20:48.434558Z",
     "shell.execute_reply": "2024-08-13T20:20:48.433316Z"
    },
    "papermill": {
     "duration": 6.744804,
     "end_time": "2024-08-13T20:20:48.436988",
     "exception": false,
     "start_time": "2024-08-13T20:20:41.692184",
     "status": "completed"
    },
    "tags": []
   },
   "outputs": [
    {
     "data": {
      "text/html": [
       "<div>\n",
       "<style scoped>\n",
       "    .dataframe tbody tr th:only-of-type {\n",
       "        vertical-align: middle;\n",
       "    }\n",
       "\n",
       "    .dataframe tbody tr th {\n",
       "        vertical-align: top;\n",
       "    }\n",
       "\n",
       "    .dataframe thead th {\n",
       "        text-align: right;\n",
       "    }\n",
       "</style>\n",
       "<table border=\"1\" class=\"dataframe\">\n",
       "  <thead>\n",
       "    <tr style=\"text-align: right;\">\n",
       "      <th></th>\n",
       "      <th>emotion</th>\n",
       "      <th>Usage</th>\n",
       "      <th>pixels</th>\n",
       "    </tr>\n",
       "  </thead>\n",
       "  <tbody>\n",
       "    <tr>\n",
       "      <th>0</th>\n",
       "      <td>0</td>\n",
       "      <td>Training</td>\n",
       "      <td>70 80 82 72 58 58 60 63 54 58 60 48 89 115 121...</td>\n",
       "    </tr>\n",
       "    <tr>\n",
       "      <th>1</th>\n",
       "      <td>0</td>\n",
       "      <td>Training</td>\n",
       "      <td>151 150 147 155 148 133 111 140 170 174 182 15...</td>\n",
       "    </tr>\n",
       "    <tr>\n",
       "      <th>2</th>\n",
       "      <td>2</td>\n",
       "      <td>Training</td>\n",
       "      <td>231 212 156 164 174 138 161 173 182 200 106 38...</td>\n",
       "    </tr>\n",
       "    <tr>\n",
       "      <th>3</th>\n",
       "      <td>4</td>\n",
       "      <td>Training</td>\n",
       "      <td>24 32 36 30 32 23 19 20 30 41 21 22 32 34 21 1...</td>\n",
       "    </tr>\n",
       "    <tr>\n",
       "      <th>4</th>\n",
       "      <td>6</td>\n",
       "      <td>Training</td>\n",
       "      <td>4 0 0 0 0 0 0 0 0 0 0 0 3 15 23 28 48 50 58 84...</td>\n",
       "    </tr>\n",
       "  </tbody>\n",
       "</table>\n",
       "</div>"
      ],
      "text/plain": [
       "   emotion     Usage                                             pixels\n",
       "0        0  Training  70 80 82 72 58 58 60 63 54 58 60 48 89 115 121...\n",
       "1        0  Training  151 150 147 155 148 133 111 140 170 174 182 15...\n",
       "2        2  Training  231 212 156 164 174 138 161 173 182 200 106 38...\n",
       "3        4  Training  24 32 36 30 32 23 19 20 30 41 21 22 32 34 21 1...\n",
       "4        6  Training  4 0 0 0 0 0 0 0 0 0 0 0 3 15 23 28 48 50 58 84..."
      ]
     },
     "execution_count": 3,
     "metadata": {},
     "output_type": "execute_result"
    }
   ],
   "source": [
    "data = pd.read_csv('/kaggle/input/challenges-in-representation-learning-facial-expression-recognition-challenge/icml_face_data.csv')\n",
    "data.head()"
   ]
  },
  {
   "cell_type": "code",
   "execution_count": 4,
   "id": "7e6f3829",
   "metadata": {
    "execution": {
     "iopub.execute_input": "2024-08-13T20:20:48.448396Z",
     "iopub.status.busy": "2024-08-13T20:20:48.448018Z",
     "iopub.status.idle": "2024-08-13T20:20:48.454021Z",
     "shell.execute_reply": "2024-08-13T20:20:48.453041Z"
    },
    "papermill": {
     "duration": 0.014581,
     "end_time": "2024-08-13T20:20:48.456365",
     "exception": false,
     "start_time": "2024-08-13T20:20:48.441784",
     "status": "completed"
    },
    "tags": []
   },
   "outputs": [
    {
     "name": "stdout",
     "output_type": "stream",
     "text": [
      "2304\n"
     ]
    }
   ],
   "source": [
    "print(len(data[' pixels'].iloc[0].split()))"
   ]
  },
  {
   "cell_type": "code",
   "execution_count": 5,
   "id": "c3595fb8",
   "metadata": {
    "execution": {
     "iopub.execute_input": "2024-08-13T20:20:48.467494Z",
     "iopub.status.busy": "2024-08-13T20:20:48.467118Z",
     "iopub.status.idle": "2024-08-13T20:20:48.472136Z",
     "shell.execute_reply": "2024-08-13T20:20:48.471195Z"
    },
    "papermill": {
     "duration": 0.013415,
     "end_time": "2024-08-13T20:20:48.474577",
     "exception": false,
     "start_time": "2024-08-13T20:20:48.461162",
     "status": "completed"
    },
    "tags": []
   },
   "outputs": [],
   "source": [
    "# def total_image(data):\n",
    "#     return len(data)\n",
    "\n",
    "# def usage_count(data):\n",
    "#     return data[' Usage'].value_counts()\n",
    "\n",
    "# def plot_class_count(data):\n",
    "#     emotion_counts = data[data['emotion']].value_counts()\n",
    "#     emotion_counts.plot(kind='bar', color='skyblue')\n",
    "#     plt.xlabel('Emotion')\n",
    "#     plt.ylabel('Count')\n",
    "#     plt.title('Emotion Counts')\n",
    "#     plt.show()\n",
    "\n",
    "# print(\"Total image:\", total_image(data))\n",
    "# print(usage_count(data))\n",
    "# plot_class_count(data)"
   ]
  },
  {
   "cell_type": "code",
   "execution_count": 6,
   "id": "d14c9c2e",
   "metadata": {
    "execution": {
     "iopub.execute_input": "2024-08-13T20:20:48.485921Z",
     "iopub.status.busy": "2024-08-13T20:20:48.485509Z",
     "iopub.status.idle": "2024-08-13T20:20:48.490712Z",
     "shell.execute_reply": "2024-08-13T20:20:48.489659Z"
    },
    "papermill": {
     "duration": 0.013496,
     "end_time": "2024-08-13T20:20:48.493002",
     "exception": false,
     "start_time": "2024-08-13T20:20:48.479506",
     "status": "completed"
    },
    "tags": []
   },
   "outputs": [],
   "source": [
    "emotions = {0: 'Angry', 1: 'Disgust', 2: 'Fear', 3: 'Happy', 4: 'Sad', 5: 'Surprise', 6: 'Neutral'}"
   ]
  },
  {
   "cell_type": "code",
   "execution_count": 7,
   "id": "59e21396",
   "metadata": {
    "execution": {
     "iopub.execute_input": "2024-08-13T20:20:48.505065Z",
     "iopub.status.busy": "2024-08-13T20:20:48.504693Z",
     "iopub.status.idle": "2024-08-13T20:20:48.511395Z",
     "shell.execute_reply": "2024-08-13T20:20:48.510397Z"
    },
    "papermill": {
     "duration": 0.015372,
     "end_time": "2024-08-13T20:20:48.513561",
     "exception": false,
     "start_time": "2024-08-13T20:20:48.498189",
     "status": "completed"
    },
    "tags": []
   },
   "outputs": [],
   "source": [
    "def prepare_data(data):\n",
    "    image_array = np.zeros(shape=(len(data), 48, 48))\n",
    "    image_label = np.array(list(map(int, data['emotion'])))\n",
    "    \n",
    "    for i, row in enumerate(data.index):\n",
    "        image = np.fromstring(data.loc[row, ' pixels'], dtype=int, sep=' ')\n",
    "        image = np.reshape(image, (48, 48))\n",
    "        image_array[i] = image\n",
    "        \n",
    "    return image_array, image_label"
   ]
  },
  {
   "cell_type": "code",
   "execution_count": 8,
   "id": "9c585f45",
   "metadata": {
    "execution": {
     "iopub.execute_input": "2024-08-13T20:20:48.526048Z",
     "iopub.status.busy": "2024-08-13T20:20:48.524534Z",
     "iopub.status.idle": "2024-08-13T20:20:52.444636Z",
     "shell.execute_reply": "2024-08-13T20:20:52.443545Z"
    },
    "papermill": {
     "duration": 3.928909,
     "end_time": "2024-08-13T20:20:52.447367",
     "exception": false,
     "start_time": "2024-08-13T20:20:48.518458",
     "status": "completed"
    },
    "tags": []
   },
   "outputs": [],
   "source": [
    "train_image_array, train_image_label = prepare_data(data[data[' Usage']=='Training'])\n",
    "val_image_array, val_image_label = prepare_data(data[data[' Usage']=='PrivateTest'])\n",
    "test_image_array, test_image_label = prepare_data(data[data[' Usage']=='PublicTest'])\n",
    "\n",
    "train_images = train_image_array.reshape((train_image_array.shape[0], 48, 48, 1))\n",
    "train_images = train_images.astype('float32')/255\n",
    "val_images = val_image_array.reshape((val_image_array.shape[0], 48, 48, 1))\n",
    "val_images = val_images.astype('float32')/255\n",
    "test_images = test_image_array.reshape((test_image_array.shape[0], 48, 48, 1))\n",
    "test_images = test_images.astype('float32')/255"
   ]
  },
  {
   "cell_type": "code",
   "execution_count": 9,
   "id": "4e045cd6",
   "metadata": {
    "execution": {
     "iopub.execute_input": "2024-08-13T20:20:52.458959Z",
     "iopub.status.busy": "2024-08-13T20:20:52.458573Z",
     "iopub.status.idle": "2024-08-13T20:20:52.464810Z",
     "shell.execute_reply": "2024-08-13T20:20:52.463745Z"
    },
    "papermill": {
     "duration": 0.014762,
     "end_time": "2024-08-13T20:20:52.467152",
     "exception": false,
     "start_time": "2024-08-13T20:20:52.452390",
     "status": "completed"
    },
    "tags": []
   },
   "outputs": [],
   "source": [
    "def plot_class_count(train_image_label, name):\n",
    "    # Calculate the counts of each label in the training set\n",
    "    emotion_counts = np.unique(train_image_label, return_counts=True)\n",
    "    \n",
    "    # Plot the counts\n",
    "    plt.bar(emotion_counts[0], emotion_counts[1], color='skyblue')\n",
    "    plt.xlabel('Emotion')\n",
    "    plt.ylabel('Count')\n",
    "    plt.title(f'Emotion Counts in {name} Set')\n",
    "    plt.show()"
   ]
  },
  {
   "cell_type": "code",
   "execution_count": 10,
   "id": "822ea6a7",
   "metadata": {
    "execution": {
     "iopub.execute_input": "2024-08-13T20:20:52.479155Z",
     "iopub.status.busy": "2024-08-13T20:20:52.478759Z",
     "iopub.status.idle": "2024-08-13T20:20:53.169756Z",
     "shell.execute_reply": "2024-08-13T20:20:53.168350Z"
    },
    "papermill": {
     "duration": 0.700102,
     "end_time": "2024-08-13T20:20:53.172185",
     "exception": false,
     "start_time": "2024-08-13T20:20:52.472083",
     "status": "completed"
    },
    "tags": []
   },
   "outputs": [
    {
     "data": {
      "image/png": "[encoded data removed]",
      "text/plain": [
       "<Figure size 640x480 with 1 Axes>"
      ]
     },
     "metadata": {},
     "output_type": "display_data"
    },
    {
     "data": {
      "image/png": "[encoded data removed]",
      "text/plain": [
       "<Figure size 640x480 with 1 Axes>"
      ]
     },
     "metadata": {},
     "output_type": "display_data"
    },
    {
     "data": {
      "image/png": "[encoded data removed]",
      "text/plain": [
       "<Figure size 640x480 with 1 Axes>"
      ]
     },
     "metadata": {},
     "output_type": "display_data"
    }
   ],
   "source": [
    "plot_class_count(train_image_label, \"Train\")\n",
    "plot_class_count(val_image_label, \"Validation\")\n",
    "plot_class_count(test_image_label, \"Test\")\n",
    "#data augmention chi lam tren train, test va val de nguyen"
   ]
  },
  {
   "cell_type": "code",
   "execution_count": 11,
   "id": "e93ce793",
   "metadata": {
    "execution": {
     "iopub.execute_input": "2024-08-13T20:20:53.186357Z",
     "iopub.status.busy": "2024-08-13T20:20:53.185955Z",
     "iopub.status.idle": "2024-08-13T20:20:53.375353Z",
     "shell.execute_reply": "2024-08-13T20:20:53.374157Z"
    },
    "papermill": {
     "duration": 0.199731,
     "end_time": "2024-08-13T20:20:53.377873",
     "exception": false,
     "start_time": "2024-08-13T20:20:53.178142",
     "status": "completed"
    },
    "tags": []
   },
   "outputs": [
    {
     "data": {
      "image/png": "[encoded data removed]",
      "text/plain": [
       "<Figure size 640x480 with 1 Axes>"
      ]
     },
     "metadata": {},
     "output_type": "display_data"
    }
   ],
   "source": [
    "#Accessing the images with label: \n",
    "label = 1  \n",
    "images_with_label = train_images[np.where(train_image_label == label)[0]]\n",
    "\n",
    "# Accessing the first image with that label\n",
    "first_image = images_with_label[0]\n",
    "\n",
    "plt.imshow(first_image, cmap='gray')\n",
    "plt.title(f\"Label: {emotions[label]}\")\n",
    "plt.show()"
   ]
  },
  {
   "cell_type": "code",
   "execution_count": 12,
   "id": "40780c7d",
   "metadata": {
    "execution": {
     "iopub.execute_input": "2024-08-13T20:20:53.393125Z",
     "iopub.status.busy": "2024-08-13T20:20:53.392179Z",
     "iopub.status.idle": "2024-08-13T20:21:09.179656Z",
     "shell.execute_reply": "2024-08-13T20:21:09.178270Z"
    },
    "papermill": {
     "duration": 15.797849,
     "end_time": "2024-08-13T20:21:09.182086",
     "exception": false,
     "start_time": "2024-08-13T20:20:53.384237",
     "status": "completed"
    },
    "tags": []
   },
   "outputs": [
    {
     "name": "stdout",
     "output_type": "stream",
     "text": [
      "Original number of images: 436\n",
      "Number of images after augmentation: 2180\n"
     ]
    }
   ],
   "source": [
    "batch_size = 32\n",
    "\n",
    "def augment(image, seed):\n",
    "    # Make a new seed for each augmentation operation\n",
    "    seed = tf.convert_to_tensor(seed, dtype=tf.int32)\n",
    "\n",
    "    # Apply various augmentations\n",
    "    new_seed = tf.random.experimental.stateless_split(seed, num=8)\n",
    "\n",
    "    # Random brightness adjustment\n",
    "    image = tf.image.stateless_random_brightness(image, max_delta=0.5, seed=new_seed[0])\n",
    "    \n",
    "    # Random contrast adjustment\n",
    "    image = tf.image.stateless_random_contrast(image, lower=0.5, upper=1.5, seed=new_seed[1])\n",
    "    \n",
    "    # Random crop (keeping the size same here for simplicity)\n",
    "    image = tf.image.stateless_random_crop(image, size=[48, 48, 1], seed=new_seed[2])\n",
    "    \n",
    "    # Random horizontal flip\n",
    "    image = tf.image.stateless_random_flip_left_right(image, seed=new_seed[3])\n",
    "    \n",
    "    # Random vertical flip\n",
    "    image = tf.image.stateless_random_flip_up_down(image, seed=new_seed[4])\n",
    "    \n",
    "    # Random JPEG quality adjustment\n",
    "    image = tf.image.stateless_random_jpeg_quality(image, min_jpeg_quality=50, max_jpeg_quality=100, seed=new_seed[6])\n",
    "\n",
    "    # Ensure pixel values are within the [0, 1] range\n",
    "    image = tf.clip_by_value(image, 0, 1)\n",
    "\n",
    "    return image\n",
    "\n",
    "# Increase the dataset size by generating N augmented versions of each image\n",
    "N = 5 \n",
    "\n",
    "# Create a random seed\n",
    "augmented_images = []\n",
    "for img in images_with_label:\n",
    "    for _ in range(N):\n",
    "        seed = np.random.randint(0, 10000, size=(2,))  # Create a new seed for each augmentation\n",
    "        augmented_image = augment(img, seed)\n",
    "        augmented_images.append(augmented_image.numpy())  # Convert Tensor back to NumPy array\n",
    "\n",
    "# Convert the list of augmented images back to a NumPy array\n",
    "augmented_images = np.array(augmented_images)\n",
    "\n",
    "# Print the number of images before and after augmentation\n",
    "print(f\"Original number of images: {len(images_with_label)}\")\n",
    "print(f\"Number of images after augmentation: {len(augmented_images)}\")\n"
   ]
  },
  {
   "cell_type": "code",
   "execution_count": 13,
   "id": "ba990102",
   "metadata": {
    "execution": {
     "iopub.execute_input": "2024-08-13T20:21:09.200821Z",
     "iopub.status.busy": "2024-08-13T20:21:09.200243Z",
     "iopub.status.idle": "2024-08-13T20:21:09.447618Z",
     "shell.execute_reply": "2024-08-13T20:21:09.446559Z"
    },
    "papermill": {
     "duration": 0.260857,
     "end_time": "2024-08-13T20:21:09.449998",
     "exception": false,
     "start_time": "2024-08-13T20:21:09.189141",
     "status": "completed"
    },
    "tags": []
   },
   "outputs": [
    {
     "data": {
      "image/png": "[encoded data removed]",
      "text/plain": [
       "<Figure size 640x480 with 1 Axes>"
      ]
     },
     "metadata": {},
     "output_type": "display_data"
    }
   ],
   "source": [
    "# Displaying the first augmented image\n",
    "plt.imshow(augmented_images[0].squeeze(), cmap='gray')\n",
    "plt.title(f\"Augmented Grayscale Image\")\n",
    "plt.show()"
   ]
  },
  {
   "cell_type": "code",
   "execution_count": 14,
   "id": "91fe881d",
   "metadata": {
    "execution": {
     "iopub.execute_input": "2024-08-13T20:21:09.464951Z",
     "iopub.status.busy": "2024-08-13T20:21:09.464573Z",
     "iopub.status.idle": "2024-08-13T20:21:09.469075Z",
     "shell.execute_reply": "2024-08-13T20:21:09.468047Z"
    },
    "papermill": {
     "duration": 0.014722,
     "end_time": "2024-08-13T20:21:09.471416",
     "exception": false,
     "start_time": "2024-08-13T20:21:09.456694",
     "status": "completed"
    },
    "tags": []
   },
   "outputs": [],
   "source": [
    "# Đoàn Anh: Tạo mô hình và huấn luyện mô hình"
   ]
  },
  {
   "cell_type": "code",
   "execution_count": 15,
   "id": "389cbc33",
   "metadata": {
    "execution": {
     "iopub.execute_input": "2024-08-13T20:21:09.486899Z",
     "iopub.status.busy": "2024-08-13T20:21:09.486526Z",
     "iopub.status.idle": "2024-08-13T20:21:09.731097Z",
     "shell.execute_reply": "2024-08-13T20:21:09.730057Z"
    },
    "papermill": {
     "duration": 0.254961,
     "end_time": "2024-08-13T20:21:09.733412",
     "exception": false,
     "start_time": "2024-08-13T20:21:09.478451",
     "status": "completed"
    },
    "tags": []
   },
   "outputs": [
    {
     "data": {
      "image/png": "[encoded data removed]",
      "text/plain": [
       "<Figure size 640x480 with 2 Axes>"
      ]
     },
     "metadata": {},
     "output_type": "display_data"
    }
   ],
   "source": [
    "# Hùng: Đánh giá mô hình và test mô hình.\n",
    "actual = np.random.binomial(1,.9,size = 100)\n",
    "predicted = np.random.binomial(1,.9,size = 100)\n",
    "\n",
    "confusion_matrix = confusion_matrix(actual, predicted)\n",
    "\n",
    "cm_display = ConfusionMatrixDisplay(confusion_matrix = confusion_matrix, display_labels = [0, 1])\n",
    "\n",
    "cm_display.plot()\n",
    "plt.show()"
   ]
  }
 ],
 "metadata": {
  "kaggle": {
   "accelerator": "none",
   "dataSources": [
    {
     "databundleVersionId": 31151,
     "sourceId": 3364,
     "sourceType": "competition"
    }
   ],
   "dockerImageVersionId": 30746,
   "isGpuEnabled": false,
   "isInternetEnabled": true,
   "language": "python",
   "sourceType": "notebook"
  },
  "kernelspec": {
   "display_name": "Python 3",
   "language": "python",
   "name": "python3"
  },
  "language_info": {
   "codemirror_mode": {
    "name": "ipython",
    "version": 3
   },
   "file_extension": ".py",
   "mimetype": "text/x-python",
   "name": "python",
   "nbconvert_exporter": "python",
   "pygments_lexer": "ipython3",
   "version": "3.10.13"
  },
  "papermill": {
   "default_parameters": {},
   "duration": 48.068823,
   "end_time": "2024-08-13T20:21:11.365174",
   "environment_variables": {},
   "exception": null,
   "input_path": "__notebook__.ipynb",
   "output_path": "__notebook__.ipynb",
   "parameters": {},
   "start_time": "2024-08-13T20:20:23.296351",
   "version": "2.5.0"
  }
 },
 "nbformat": 4,
 "nbformat_minor": 5
}
